{
 "cells": [
  {
   "cell_type": "code",
   "execution_count": 4,
   "metadata": {},
   "outputs": [],
   "source": [
    "import os\n",
    "import sys\n",
    "import matplotlib.pyplot as plt\n",
    "import seaborn as sns\n",
    "import numpy as np\n",
    "import pandas as pd\n",
    "\n",
    "from sklearn.metrics import roc_curve, auc"
   ]
  },
  {
   "cell_type": "code",
   "execution_count": 8,
   "metadata": {},
   "outputs": [],
   "source": [
    "SCORES_DIR = \"./eval/scores\"\n",
    "ECAPA_DIR = SCORES_DIR + \"/ecapa\"\n",
    "ECAPA_SCHED_DIR = SCORES_DIR + \"/ecapa-scheduler\""
   ]
  },
  {
   "cell_type": "code",
   "execution_count": 9,
   "metadata": {},
   "outputs": [],
   "source": [
    "def load_scores(file_path):\n",
    "    print(f\"Loading scores from {file_path}\")\n",
    "    pd.read_csv(file_path, sep=' ', names=['label', 'score'])\n",
    "    \n",
    "def calculate_eer(y, y_score):\n",
    "    fpr, tpr, thresholds = roc_curve(y, y_score)\n",
    "    eer = fpr[np.nanargmin(np.abs(fpr - (1 - tpr)))]\n",
    "    return eer\n",
    "\n",
    "def calculate_minDCF(y, y_scores, p_target=0.01, c_miss=1, c_fa=1):\n",
    "    \"\"\"Calculate the minimum Detection Cost Function (minDCF).\"\"\"\n",
    "    fpr, tpr, thresholds = roc_curve(y, y_scores)\n",
    "    fnr = 1 - tpr\n",
    "    dcf = p_target * c_miss * fnr + (1 - p_target) * c_fa * fpr\n",
    "    min_dcf = min(dcf)\n",
    "    return min_dcf"
   ]
  },
  {
   "cell_type": "code",
   "execution_count": 18,
   "metadata": {},
   "outputs": [],
   "source": [
    "def plot_metrics(epochs, metrics, title, ylabel):\n",
    "    plt.figure(figsize=(10, 5))\n",
    "    sns.lineplot(x=epochs, y=metrics)\n",
    "    plt.title(title)\n",
    "    plt.xlabel('Epoch')\n",
    "    plt.ylabel(ylabel)\n",
    "    plt.grid(True)\n",
    "    plt.show()\n",
    "   \n",
    "def process_model_scores(model, model_path, epochs):\n",
    "    eers = []\n",
    "    mindcfs = []\n",
    "    for epoch in epochs:\n",
    "        file_path = f\"{model_path}/{model}.{epoch}.scores\"\n",
    "        df = load_scores(file_path)\n",
    "        eer = calculate_eer(df['label'], df['score'])\n",
    "        min_dcf = calculate_minDCF(df['label'], df['score'])\n",
    "        eers.append(eer)\n",
    "        mindcfs.append(min_dcf)\n",
    "    return eers, mindcfs"
   ]
  },
  {
   "cell_type": "code",
   "execution_count": 19,
   "metadata": {},
   "outputs": [
    {
     "ename": "TypeError",
     "evalue": "'NoneType' object is not subscriptable",
     "output_type": "error",
     "traceback": [
      "\u001b[1;31m---------------------------------------------------------------------------\u001b[0m",
      "\u001b[1;31mTypeError\u001b[0m                                 Traceback (most recent call last)",
      "Cell \u001b[1;32mIn [19], line 2\u001b[0m\n\u001b[0;32m      1\u001b[0m epochs \u001b[38;5;241m=\u001b[39m [\u001b[38;5;241m15\u001b[39m, \u001b[38;5;241m20\u001b[39m, \u001b[38;5;241m25\u001b[39m, \u001b[38;5;241m30\u001b[39m, \u001b[38;5;241m35\u001b[39m]\n\u001b[1;32m----> 2\u001b[0m ecapa_eers, ecapa_mindcfs \u001b[38;5;241m=\u001b[39m \u001b[43mprocess_model_scores\u001b[49m\u001b[43m(\u001b[49m\u001b[38;5;124;43m'\u001b[39;49m\u001b[38;5;124;43mecapa\u001b[39;49m\u001b[38;5;124;43m'\u001b[39;49m\u001b[43m,\u001b[49m\u001b[43m \u001b[49m\u001b[43mECAPA_DIR\u001b[49m\u001b[43m,\u001b[49m\u001b[43m \u001b[49m\u001b[43mepochs\u001b[49m\u001b[43m)\u001b[49m\n",
      "Cell \u001b[1;32mIn [18], line 16\u001b[0m, in \u001b[0;36mprocess_model_scores\u001b[1;34m(model, model_path, epochs)\u001b[0m\n\u001b[0;32m     14\u001b[0m file_path \u001b[38;5;241m=\u001b[39m \u001b[38;5;124mf\u001b[39m\u001b[38;5;124m\"\u001b[39m\u001b[38;5;132;01m{\u001b[39;00mmodel_path\u001b[38;5;132;01m}\u001b[39;00m\u001b[38;5;124m/\u001b[39m\u001b[38;5;132;01m{\u001b[39;00mmodel\u001b[38;5;132;01m}\u001b[39;00m\u001b[38;5;124m.\u001b[39m\u001b[38;5;132;01m{\u001b[39;00mepoch\u001b[38;5;132;01m}\u001b[39;00m\u001b[38;5;124m.scores\u001b[39m\u001b[38;5;124m\"\u001b[39m\n\u001b[0;32m     15\u001b[0m df \u001b[38;5;241m=\u001b[39m load_scores(file_path)\n\u001b[1;32m---> 16\u001b[0m eer \u001b[38;5;241m=\u001b[39m calculate_eer(\u001b[43mdf\u001b[49m\u001b[43m[\u001b[49m\u001b[38;5;124;43m'\u001b[39;49m\u001b[38;5;124;43mlabel\u001b[39;49m\u001b[38;5;124;43m'\u001b[39;49m\u001b[43m]\u001b[49m, df[\u001b[38;5;124m'\u001b[39m\u001b[38;5;124mscore\u001b[39m\u001b[38;5;124m'\u001b[39m])\n\u001b[0;32m     17\u001b[0m min_dcf \u001b[38;5;241m=\u001b[39m calculate_minDCF(df[\u001b[38;5;124m'\u001b[39m\u001b[38;5;124mlabel\u001b[39m\u001b[38;5;124m'\u001b[39m], df[\u001b[38;5;124m'\u001b[39m\u001b[38;5;124mscore\u001b[39m\u001b[38;5;124m'\u001b[39m])\n\u001b[0;32m     18\u001b[0m eers\u001b[38;5;241m.\u001b[39mappend(eer)\n",
      "\u001b[1;31mTypeError\u001b[0m: 'NoneType' object is not subscriptable"
     ]
    }
   ],
   "source": [
    "epochs = [15, 20, 25, 30, 35]\n",
    "ecapa_eers, ecapa_mindcfs = process_model_scores('ecapa', ECAPA_DIR, epochs)"
   ]
  },
  {
   "cell_type": "code",
   "execution_count": null,
   "metadata": {},
   "outputs": [],
   "source": []
  }
 ],
 "metadata": {
  "kernelspec": {
   "display_name": "Python 3",
   "language": "python",
   "name": "python3"
  },
  "language_info": {
   "codemirror_mode": {
    "name": "ipython",
    "version": 3
   },
   "file_extension": ".py",
   "mimetype": "text/x-python",
   "name": "python",
   "nbconvert_exporter": "python",
   "pygments_lexer": "ipython3",
   "version": "3.10.8"
  }
 },
 "nbformat": 4,
 "nbformat_minor": 2
}
